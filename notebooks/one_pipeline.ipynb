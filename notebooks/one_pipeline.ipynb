{
  "cells": [
    {
      "cell_type": "code",
      "execution_count": 7,
      "metadata": {
        "id": "y5kSbj89PU3P"
      },
      "outputs": [],
      "source": [
        "import torch\n",
        "import torch.nn as nn\n",
        "import torch.optim as optim\n",
        "from torch.utils.data import DataLoader, TensorDataset\n",
        "from tqdm import tqdm\n",
        "import pandas as pd\n",
        "\n",
        "\n",
        "# Define the neural network architecture\n",
        "class ParallelNN(nn.Module):\n",
        "    def __init__(self, input1_size, hidden_size, num_classes):\n",
        "        super(ParallelNN, self).__init__()\n",
        "\n",
        "        # Define the first pipeline\n",
        "        self.pipeline1 = nn.Sequential(\n",
        "            nn.Linear(input1_size, 2048),\n",
        "            nn.BatchNorm1d(2048),\n",
        "            nn.ReLU(),\n",
        "            nn.Dropout(0.5),\n",
        "            nn.Linear(2048, hidden_size)\n",
        "        )\n",
        "\n",
        "        # Define the final classification layer\n",
        "        self.classification = nn.Sequential(\n",
        "            nn.Linear(hidden_size, 64),\n",
        "            nn.ReLU(),\n",
        "            nn.Linear(64, 32),\n",
        "            nn.ReLU(),\n",
        "            nn.Linear(32, num_classes)\n",
        "        )\n",
        "\n",
        "    def forward(self, x1):\n",
        "        out1 = self.pipeline1(x1)\n",
        "\n",
        "        # Apply the final classification layer\n",
        "        final_out = self.classification(out1)\n",
        "        return final_out\n",
        "\n",
        "# Define the input sizes, hidden size, and number of classes\n",
        "#input1_size = 10  # Change this to match the number of features in your first dataset\n",
        "#input2_size = 8   # Change this to match the number of features in your second dataset\n",
        "#hidden_size = 64\n",
        "#num_classes = 3   # Change this to match the number of classes in your classification task\n",
        "\n",
        "# Initialize the model\n",
        "#model = ParallelNN(input1_size, input2_size, hidden_size, num_classes)\n",
        "\n",
        "# Define your loss function and optimizer\n",
        "#criterion = nn.CrossEntropyLoss()\n",
        "#optimizer = optim.Adam(model.parameters(), lr=0.001)\n"
      ]
    },
    {
      "cell_type": "code",
      "execution_count": 8,
      "metadata": {
        "id": "pHelC-dyPM4b"
      },
      "outputs": [],
      "source": [
        "# Assuming you have data1 and data2 as torch Tensors\n",
        "# Replace this with your actual data\n",
        "# data1 = torch.randn(10000, 10)  # Example: 100 samples, 10 features\n",
        "# data2 = torch.randn(10000, 8)   # Example: 100 samples, 8 features\n",
        "# labels = torch.randint(0, 3, (10000,))  # Example labels (0, 1, or 2)\n",
        "\n",
        "device = \"cpu\"\n",
        "\n",
        "# Load the data from a CSV file\n",
        "csv_name = 'preprocessed_data.csv'\n",
        "data = pd.read_csv(csv_name)\n",
        "\n",
        "# Normalize the data within each column except the first\n",
        "data.iloc[:, 1:] = (data.iloc[:, 1:] - data.iloc[:, 1:].mean()) / data.iloc[:, 1:].std()\n",
        "\n",
        "\n",
        "# The first column is irrelevant, the second column is the label\n",
        "labels = torch.tensor(data.iloc[:, 0].values, dtype=torch.long)\n",
        "data = torch.tensor(data.iloc[:, 1:].values, dtype=torch.float32)\n",
        "\n",
        "# Define model, loss function, and optimizer\n",
        "model = ParallelNN(input1_size=data.shape[1], hidden_size=64, num_classes=3)\n",
        "criterion = nn.CrossEntropyLoss()\n",
        "optimizer = optim.Adam(model.parameters(), lr=0.001, weight_decay=1e-4)\n",
        "k_folds = 5\n",
        "\n",
        "# Prepare data loaders\n",
        "dataset = TensorDataset(data, labels)\n",
        "train_set, val_set = torch.utils.data.random_split(dataset, [int(0.8 * len(dataset)), len(dataset) - int(0.8 * len(dataset))])\n",
        "sampler = torch.utils.data.RandomSampler(train_set, replacement=True, num_samples=1000)\n",
        "train_loader = DataLoader(train_set, batch_size=32, sampler=sampler)\n",
        "val_loader = DataLoader(val_set, batch_size=16, shuffle=False)\n",
        "\n",
        "# Training loop\n",
        "def train(model, dataloader, criterion, optimizer):\n",
        "    pbar = tqdm(dataloader)\n",
        "    correct = 0\n",
        "\n",
        "    for (data, labels) in pbar:\n",
        "        model.train()\n",
        "\n",
        "        optimizer.zero_grad()\n",
        "        outputs = model(data)\n",
        "        loss = criterion(outputs, labels)\n",
        "\n",
        "        loss.backward()\n",
        "        optimizer.step()\n",
        "\n",
        "        correct += (outputs.argmax(dim=1) == labels).float().sum()\n",
        "        accuracy = correct / 1000 # Used in sampling\n",
        "\n",
        "        \n",
        "        # Validation loop\n",
        "        val_loss = 0\n",
        "        val_accuracy = 0\n",
        "        model.eval()\n",
        "\n",
        "        with torch.no_grad():\n",
        "            for (data, labels) in val_loader:\n",
        "\n",
        "                outputs = model(data)\n",
        "                loss = criterion(outputs, labels)\n",
        "                val_loss += loss.item()\n",
        "                val_accuracy += (outputs.argmax(dim=1) == labels).float().sum()\n",
        "\n",
        "        val_loss /= len(val_loader)\n",
        "        val_accuracy /= len(val_set)\n",
        "         \n",
        "        pbar.set_description(f\"Loss: {loss.item():.4f}, Accuracy: {accuracy:.4f}, Val Loss: {val_loss:.4f}, Val Accuracy: {val_accuracy:.4f}\")\n",
        "        "
      ]
    },
    {
      "cell_type": "code",
      "execution_count": 9,
      "metadata": {},
      "outputs": [
        {
          "name": "stdout",
          "output_type": "stream",
          "text": [
            "Epoch 1/30\n"
          ]
        },
        {
          "name": "stderr",
          "output_type": "stream",
          "text": [
            "Loss: 1.1540, Accuracy: 0.5580, Val Loss: 1.0592, Val Accuracy: 0.4938: 100%|██████████| 32/32 [00:00<00:00, 52.87it/s]\n"
          ]
        },
        {
          "name": "stdout",
          "output_type": "stream",
          "text": [
            "Epoch 2/30\n"
          ]
        },
        {
          "name": "stderr",
          "output_type": "stream",
          "text": [
            "Loss: 0.4128, Accuracy: 0.6440, Val Loss: 0.9888, Val Accuracy: 0.4691: 100%|██████████| 32/32 [00:00<00:00, 80.44it/s]\n"
          ]
        },
        {
          "name": "stdout",
          "output_type": "stream",
          "text": [
            "Epoch 3/30\n"
          ]
        },
        {
          "name": "stderr",
          "output_type": "stream",
          "text": [
            "Loss: 0.4748, Accuracy: 0.7820, Val Loss: 1.1941, Val Accuracy: 0.4444: 100%|██████████| 32/32 [00:00<00:00, 74.80it/s]\n"
          ]
        },
        {
          "name": "stdout",
          "output_type": "stream",
          "text": [
            "Epoch 4/30\n"
          ]
        },
        {
          "name": "stderr",
          "output_type": "stream",
          "text": [
            "Loss: 0.9396, Accuracy: 0.8460, Val Loss: 1.2779, Val Accuracy: 0.5062: 100%|██████████| 32/32 [00:00<00:00, 74.29it/s]\n"
          ]
        },
        {
          "name": "stdout",
          "output_type": "stream",
          "text": [
            "Epoch 5/30\n"
          ]
        },
        {
          "name": "stderr",
          "output_type": "stream",
          "text": [
            "Loss: 0.3893, Accuracy: 0.8800, Val Loss: 1.1194, Val Accuracy: 0.5185: 100%|██████████| 32/32 [00:00<00:00, 74.10it/s]\n"
          ]
        },
        {
          "name": "stdout",
          "output_type": "stream",
          "text": [
            "Epoch 6/30\n"
          ]
        },
        {
          "name": "stderr",
          "output_type": "stream",
          "text": [
            "Loss: 0.2860, Accuracy: 0.9040, Val Loss: 1.3446, Val Accuracy: 0.4568: 100%|██████████| 32/32 [00:00<00:00, 72.52it/s]\n"
          ]
        },
        {
          "name": "stdout",
          "output_type": "stream",
          "text": [
            "Epoch 7/30\n"
          ]
        },
        {
          "name": "stderr",
          "output_type": "stream",
          "text": [
            "Loss: 0.6231, Accuracy: 0.8970, Val Loss: 1.4386, Val Accuracy: 0.4938: 100%|██████████| 32/32 [00:00<00:00, 62.34it/s]\n"
          ]
        },
        {
          "name": "stdout",
          "output_type": "stream",
          "text": [
            "Epoch 8/30\n"
          ]
        },
        {
          "name": "stderr",
          "output_type": "stream",
          "text": [
            "Loss: 0.1682, Accuracy: 0.9230, Val Loss: 1.3312, Val Accuracy: 0.5309: 100%|██████████| 32/32 [00:00<00:00, 74.03it/s]\n"
          ]
        },
        {
          "name": "stdout",
          "output_type": "stream",
          "text": [
            "Epoch 9/30\n"
          ]
        },
        {
          "name": "stderr",
          "output_type": "stream",
          "text": [
            "Loss: 2.0331, Accuracy: 0.9110, Val Loss: 1.7159, Val Accuracy: 0.4691: 100%|██████████| 32/32 [00:00<00:00, 73.54it/s]\n"
          ]
        },
        {
          "name": "stdout",
          "output_type": "stream",
          "text": [
            "Epoch 10/30\n"
          ]
        },
        {
          "name": "stderr",
          "output_type": "stream",
          "text": [
            "Loss: 0.3196, Accuracy: 0.9300, Val Loss: 1.4398, Val Accuracy: 0.5432: 100%|██████████| 32/32 [00:00<00:00, 73.46it/s]\n"
          ]
        },
        {
          "name": "stdout",
          "output_type": "stream",
          "text": [
            "Epoch 11/30\n"
          ]
        },
        {
          "name": "stderr",
          "output_type": "stream",
          "text": [
            "Loss: 0.1760, Accuracy: 0.9350, Val Loss: 1.3738, Val Accuracy: 0.5062: 100%|██████████| 32/32 [00:00<00:00, 71.78it/s]\n"
          ]
        },
        {
          "name": "stdout",
          "output_type": "stream",
          "text": [
            "Epoch 12/30\n"
          ]
        },
        {
          "name": "stderr",
          "output_type": "stream",
          "text": [
            "Loss: 0.4944, Accuracy: 0.9140, Val Loss: 1.6545, Val Accuracy: 0.5309: 100%|██████████| 32/32 [00:00<00:00, 62.45it/s]\n"
          ]
        },
        {
          "name": "stdout",
          "output_type": "stream",
          "text": [
            "Epoch 13/30\n"
          ]
        },
        {
          "name": "stderr",
          "output_type": "stream",
          "text": [
            "Loss: 0.8052, Accuracy: 0.9270, Val Loss: 1.4767, Val Accuracy: 0.5309: 100%|██████████| 32/32 [00:00<00:00, 75.71it/s]\n"
          ]
        },
        {
          "name": "stdout",
          "output_type": "stream",
          "text": [
            "Epoch 14/30\n"
          ]
        },
        {
          "name": "stderr",
          "output_type": "stream",
          "text": [
            "Loss: 1.8223, Accuracy: 0.9170, Val Loss: 1.7107, Val Accuracy: 0.5185: 100%|██████████| 32/32 [00:00<00:00, 74.21it/s]\n"
          ]
        },
        {
          "name": "stdout",
          "output_type": "stream",
          "text": [
            "Epoch 15/30\n"
          ]
        },
        {
          "name": "stderr",
          "output_type": "stream",
          "text": [
            "Loss: 0.5595, Accuracy: 0.9490, Val Loss: 1.7112, Val Accuracy: 0.4938: 100%|██████████| 32/32 [00:00<00:00, 70.46it/s]\n"
          ]
        },
        {
          "name": "stdout",
          "output_type": "stream",
          "text": [
            "Epoch 16/30\n"
          ]
        },
        {
          "name": "stderr",
          "output_type": "stream",
          "text": [
            "Loss: 1.5024, Accuracy: 0.9490, Val Loss: 2.1517, Val Accuracy: 0.4938: 100%|██████████| 32/32 [00:00<00:00, 74.03it/s]\n"
          ]
        },
        {
          "name": "stdout",
          "output_type": "stream",
          "text": [
            "Epoch 17/30\n"
          ]
        },
        {
          "name": "stderr",
          "output_type": "stream",
          "text": [
            "Loss: 1.2397, Accuracy: 0.9600, Val Loss: 1.8048, Val Accuracy: 0.5185: 100%|██████████| 32/32 [00:00<00:00, 71.46it/s]\n"
          ]
        },
        {
          "name": "stdout",
          "output_type": "stream",
          "text": [
            "Epoch 18/30\n"
          ]
        },
        {
          "name": "stderr",
          "output_type": "stream",
          "text": [
            "Loss: 2.8382, Accuracy: 0.9470, Val Loss: 2.1819, Val Accuracy: 0.5185: 100%|██████████| 32/32 [00:00<00:00, 68.15it/s]\n"
          ]
        },
        {
          "name": "stdout",
          "output_type": "stream",
          "text": [
            "Epoch 19/30\n"
          ]
        },
        {
          "name": "stderr",
          "output_type": "stream",
          "text": [
            "Loss: 0.1780, Accuracy: 0.9300, Val Loss: 1.4973, Val Accuracy: 0.5309: 100%|██████████| 32/32 [00:00<00:00, 80.71it/s]\n"
          ]
        },
        {
          "name": "stdout",
          "output_type": "stream",
          "text": [
            "Epoch 20/30\n"
          ]
        },
        {
          "name": "stderr",
          "output_type": "stream",
          "text": [
            "Loss: 0.0165, Accuracy: 0.9380, Val Loss: 1.8057, Val Accuracy: 0.5309: 100%|██████████| 32/32 [00:00<00:00, 78.31it/s]\n"
          ]
        },
        {
          "name": "stdout",
          "output_type": "stream",
          "text": [
            "Epoch 21/30\n"
          ]
        },
        {
          "name": "stderr",
          "output_type": "stream",
          "text": [
            "Loss: 0.0082, Accuracy: 0.9620, Val Loss: 1.9747, Val Accuracy: 0.5185: 100%|██████████| 32/32 [00:00<00:00, 71.53it/s]\n"
          ]
        },
        {
          "name": "stdout",
          "output_type": "stream",
          "text": [
            "Epoch 22/30\n"
          ]
        },
        {
          "name": "stderr",
          "output_type": "stream",
          "text": [
            "Loss: 2.1897, Accuracy: 0.9470, Val Loss: 1.9947, Val Accuracy: 0.5679: 100%|██████████| 32/32 [00:00<00:00, 72.92it/s]\n"
          ]
        },
        {
          "name": "stdout",
          "output_type": "stream",
          "text": [
            "Epoch 23/30\n"
          ]
        },
        {
          "name": "stderr",
          "output_type": "stream",
          "text": [
            "Loss: 0.1014, Accuracy: 0.9580, Val Loss: 1.6814, Val Accuracy: 0.5802: 100%|██████████| 32/32 [00:00<00:00, 77.18it/s]\n"
          ]
        },
        {
          "name": "stdout",
          "output_type": "stream",
          "text": [
            "Epoch 24/30\n"
          ]
        },
        {
          "name": "stderr",
          "output_type": "stream",
          "text": [
            "Loss: 0.0142, Accuracy: 0.9620, Val Loss: 1.7594, Val Accuracy: 0.5556: 100%|██████████| 32/32 [00:00<00:00, 65.12it/s]\n"
          ]
        },
        {
          "name": "stdout",
          "output_type": "stream",
          "text": [
            "Epoch 25/30\n"
          ]
        },
        {
          "name": "stderr",
          "output_type": "stream",
          "text": [
            "Loss: 0.9157, Accuracy: 0.9730, Val Loss: 2.0945, Val Accuracy: 0.5309: 100%|██████████| 32/32 [00:00<00:00, 75.86it/s]\n"
          ]
        },
        {
          "name": "stdout",
          "output_type": "stream",
          "text": [
            "Epoch 26/30\n"
          ]
        },
        {
          "name": "stderr",
          "output_type": "stream",
          "text": [
            "Loss: 1.1058, Accuracy: 0.9700, Val Loss: 2.0387, Val Accuracy: 0.5062: 100%|██████████| 32/32 [00:00<00:00, 77.48it/s]\n"
          ]
        },
        {
          "name": "stdout",
          "output_type": "stream",
          "text": [
            "Epoch 27/30\n"
          ]
        },
        {
          "name": "stderr",
          "output_type": "stream",
          "text": [
            "Loss: 0.3191, Accuracy: 0.9450, Val Loss: 1.8710, Val Accuracy: 0.5309: 100%|██████████| 32/32 [00:00<00:00, 74.04it/s]\n"
          ]
        },
        {
          "name": "stdout",
          "output_type": "stream",
          "text": [
            "Epoch 28/30\n"
          ]
        },
        {
          "name": "stderr",
          "output_type": "stream",
          "text": [
            "Loss: 0.2732, Accuracy: 0.9480, Val Loss: 1.5670, Val Accuracy: 0.5432: 100%|██████████| 32/32 [00:00<00:00, 76.81it/s]\n"
          ]
        },
        {
          "name": "stdout",
          "output_type": "stream",
          "text": [
            "Epoch 29/30\n"
          ]
        },
        {
          "name": "stderr",
          "output_type": "stream",
          "text": [
            "Loss: 0.4305, Accuracy: 0.9650, Val Loss: 2.0974, Val Accuracy: 0.5062: 100%|██████████| 32/32 [00:00<00:00, 74.10it/s]\n"
          ]
        },
        {
          "name": "stdout",
          "output_type": "stream",
          "text": [
            "Epoch 30/30\n"
          ]
        },
        {
          "name": "stderr",
          "output_type": "stream",
          "text": [
            "Loss: 0.2370, Accuracy: 0.9480, Val Loss: 1.8804, Val Accuracy: 0.5062: 100%|██████████| 32/32 [00:00<00:00, 64.12it/s]"
          ]
        },
        {
          "name": "stdout",
          "output_type": "stream",
          "text": [
            "Finished training\n"
          ]
        },
        {
          "name": "stderr",
          "output_type": "stream",
          "text": [
            "\n"
          ]
        }
      ],
      "source": [
        "# Main function\n",
        "def main():\n",
        "    num_epochs = 30\n",
        "\n",
        "    for epoch in range(num_epochs):\n",
        "        print(f\"Epoch {epoch+1}/{num_epochs}\")\n",
        "        train(model, train_loader, criterion, optimizer)\n",
        "\n",
        "    print(\"Finished training\")\n",
        "\n",
        "if __name__ == '__main__':\n",
        "    main()"
      ]
    }
  ],
  "metadata": {
    "colab": {
      "provenance": []
    },
    "kernelspec": {
      "display_name": "Python 3",
      "name": "python3"
    },
    "language_info": {
      "codemirror_mode": {
        "name": "ipython",
        "version": 3
      },
      "file_extension": ".py",
      "mimetype": "text/x-python",
      "name": "python",
      "nbconvert_exporter": "python",
      "pygments_lexer": "ipython3",
      "version": "3.11.3"
    }
  },
  "nbformat": 4,
  "nbformat_minor": 0
}
