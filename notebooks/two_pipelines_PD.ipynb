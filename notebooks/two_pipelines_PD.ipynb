{
 "cells": [
  {
   "cell_type": "code",
   "execution_count": 1,
   "metadata": {
    "id": "y5kSbj89PU3P"
   },
   "outputs": [],
   "source": [
    "import torch\n",
    "import torch.nn as nn\n",
    "import torch.optim as optim\n",
    "from torch.utils.data import DataLoader, TensorDataset\n",
    "from tqdm import tqdm\n",
    "import pandas as pd\n",
    "from sklearn import metrics\n",
    "\n",
    "# Define the neural network architecture\n",
    "class ParallelNN(nn.Module):\n",
    "    def __init__(self, input1_size, input2_size, hidden_size, num_classes):\n",
    "        super(ParallelNN, self).__init__()\n",
    "\n",
    "        # Define the first pipeline\n",
    "        self.pipeline1 = nn.Sequential(\n",
    "                nn.Linear(input1_size, 2048),\n",
    "                nn.BatchNorm1d(2048),\n",
    "                nn.ReLU(),\n",
    "                nn.Dropout(0.5),\n",
    "                nn.Linear(2048, 1024),\n",
    "                nn.BatchNorm1d(1024),\n",
    "                nn.ReLU(),\n",
    "                nn.Dropout(0.5),\n",
    "                nn.Linear(1024, 512),\n",
    "                nn.BatchNorm1d(512),\n",
    "                nn.ReLU(),\n",
    "                nn.Dropout(0.5),\n",
    "                nn.Linear(512, hidden_size)\n",
    "            )\n",
    "\n",
    "        # Define the second pipeline\n",
    "        self.pipeline2 = nn.Sequential(\n",
    "                nn.Linear(input2_size, 2048),\n",
    "                nn.BatchNorm1d(2048),\n",
    "                nn.ReLU(),\n",
    "                nn.Dropout(0.5),\n",
    "                nn.Linear(2048, 1024),\n",
    "                nn.BatchNorm1d(1024),\n",
    "                nn.ReLU(),\n",
    "                nn.Dropout(0.5),\n",
    "                nn.Linear(1024, 512),\n",
    "                nn.BatchNorm1d(512),\n",
    "                nn.ReLU(),\n",
    "                nn.Dropout(0.5),\n",
    "                nn.Linear(512, hidden_size)\n",
    "            )\n",
    "\n",
    "        # Define the final classification layer\n",
    "        self.classification = nn.Sequential(\n",
    "            nn.Linear(2 * hidden_size, 64),\n",
    "            nn.BatchNorm1d(64),\n",
    "            nn.ReLU(),\n",
    "            nn.Linear(64, 32),\n",
    "            nn.BatchNorm1d(32),\n",
    "            nn.ReLU(),\n",
    "            nn.Linear(32, num_classes)\n",
    "        )\n",
    "\n",
    "    def forward(self, x1, x2):\n",
    "        out1 = self.pipeline1(x1)\n",
    "        out2 = self.pipeline2(x2)\n",
    "\n",
    "        # Concatenate the outputs\n",
    "        merged_out = torch.cat((out1, out2), dim=1)\n",
    "\n",
    "        # Apply the final classification layer\n",
    "        final_out = self.classification(merged_out)\n",
    "        return final_out\n",
    "    \n",
    "class EarlyStopping:\n",
    "    def __init__(self, patience=5, min_delta=0):\n",
    "        self.patience = patience\n",
    "        self.min_delta = min_delta\n",
    "        self.best_loss = None\n",
    "        self.counter = 0\n",
    "\n",
    "    def should_stop(self, current_loss):\n",
    "        if self.best_loss is None or current_loss < self.best_loss - self.min_delta:\n",
    "            self.best_loss = current_loss\n",
    "            self.counter = 0\n",
    "        else:\n",
    "            self.counter += 1\n",
    "        \n",
    "        return self.counter >= self.patience\n",
    "\n",
    "early_stopping = EarlyStopping(patience=5, min_delta=0.001)\n",
    "\n",
    "\n",
    "# Define the input sizes, hidden size, and number of classes\n",
    "#input1_size = 10  # Change this to match the number of features in your first dataset\n",
    "#input2_size = 8   # Change this to match the number of features in your second dataset\n",
    "#hidden_size = 64\n",
    "#num_classes = 3   # Change this to match the number of classes in your classification task\n",
    "\n",
    "# Initialize the model\n",
    "#model = ParallelNN(input1_size, input2_size, hidden_size, num_classes)\n",
    "\n",
    "# Define your loss function and optimizer\n",
    "#criterion = nn.CrossEntropyLoss()\n",
    "#optimizer = optim.Adam(model.parameters(), lr=0.001)\n",
    "\n",
    "# Set device\n",
    "device = 'mps' if torch.backends.mps.is_available() else 'cpu'\n"
   ]
  },
  {
   "cell_type": "code",
   "execution_count": 2,
   "metadata": {
    "id": "pHelC-dyPM4b"
   },
   "outputs": [
    {
     "name": "stderr",
     "output_type": "stream",
     "text": [
      "/Users/franky/Downloads/445-env/lib/python3.11/site-packages/sklearn/preprocessing/_data.py:2663: UserWarning: n_quantiles (1000) is greater than the total number of samples (322). n_quantiles is set to n_samples.\n",
      "  warnings.warn(\n",
      "/Users/franky/Downloads/445-env/lib/python3.11/site-packages/sklearn/preprocessing/_data.py:2663: UserWarning: n_quantiles (1000) is greater than the total number of samples (322). n_quantiles is set to n_samples.\n",
      "  warnings.warn(\n"
     ]
    }
   ],
   "source": [
    "from sklearn.preprocessing import QuantileTransformer\n",
    "\n",
    "# Load the data from a CSV file\n",
    "NMR_csv_name = '../data/PD_Serum_Metabolomics_Final_NMR.csv'\n",
    "MS_csv_name = '../data/preprocessed_data_PD.csv'\n",
    "\n",
    "NMR_data = pd.read_csv(NMR_csv_name)\n",
    "MS_data = pd.read_csv(MS_csv_name)\n",
    "\n",
    "# Labels are first column of MS data\n",
    "# Remove 305h row from MS data, because it is missing from NMR data\n",
    "data1 = torch.tensor(NMR_data.values, dtype=torch.float32).to(device)\n",
    "data2 = torch.tensor(MS_data.drop(index=305).iloc[:, 1:].values, dtype=torch.float32).to(device)\n",
    "labels = torch.tensor(MS_data.drop(index=305).iloc[:, 0].values, dtype=torch.long).to(device)\n",
    "\n",
    "# Normalize the data\n",
    "scaler1 = QuantileTransformer()\n",
    "scaler2 = QuantileTransformer()\n",
    "data1 = scaler1.fit_transform(data1.cpu().numpy())\n",
    "data2 = scaler2.fit_transform(data2.cpu().numpy())\n",
    "data1 = torch.tensor(data1, dtype=torch.float32).to(device)\n",
    "data2 = torch.tensor(data2, dtype=torch.float32).to(device)\n",
    "\n",
    "binary = True\n",
    "num_classes = 2 if binary else 3\n",
    "if binary:\n",
    "    labels[labels == 2] = 1\n",
    "\n",
    "# Define model, loss function, and optimizer\n",
    "model = ParallelNN(input1_size=data1.shape[1], input2_size=data2.shape[1], hidden_size=32, num_classes=num_classes)\n",
    "model.to(device)\n",
    "criterion = nn.CrossEntropyLoss()\n",
    "optimizer = optim.Adam(model.parameters(), weight_decay=1e-4)\n",
    "scheduler = optim.lr_scheduler.StepLR(optimizer, step_size=10, gamma=0.1)\n",
    "k_folds = 5\n",
    "\n",
    "# Prepare data loaders\n",
    "dataset = TensorDataset(data1, data2, labels)\n",
    "train_set, val_set = torch.utils.data.random_split(dataset, [int(0.8 * len(dataset)), len(dataset) - int(0.8 * len(dataset))])\n",
    "sampler = torch.utils.data.RandomSampler(train_set, replacement=True, num_samples=1000)\n",
    "train_loader = DataLoader(train_set, batch_size=32, sampler=sampler)\n",
    "val_loader = DataLoader(val_set, batch_size=12, shuffle=False)\n",
    "\n",
    "# Training loop\n",
    "def train(model, dataloader, criterion, optimizer, best_loss):\n",
    "    pbar = tqdm(dataloader)\n",
    "    correct = 0\n",
    "    running_loss = 0\n",
    "    \n",
    "\n",
    "    for (data1, data2, labels) in pbar:\n",
    "        model.train()\n",
    "\n",
    "        data1, data2, labels = data1, data2, labels\n",
    "\n",
    "        optimizer.zero_grad()\n",
    "        outputs = model(data1, data2)\n",
    "        loss = criterion(outputs, labels)\n",
    "        running_loss += loss.item() * data1.size(0)\n",
    "\n",
    "        loss.backward()\n",
    "        optimizer.step()\n",
    "\n",
    "        # correct += (outputs.argmax(dim=1) == labels).float().sum()\n",
    "        correct += (outputs.argmax(dim=1) == labels).float().sum().cpu().numpy()\n",
    "        accuracy = correct / 1000  # Used in sampling\n",
    "\n",
    "         \n",
    "        pbar.set_description(f\"Loss: {running_loss / 1000:.4f}, Accuracy: {accuracy:.4f}\")\n",
    "\n",
    "    # Validation loop\n",
    "    val_loss = 0\n",
    "    val_accuracy = 0\n",
    "    model.eval()\n",
    "\n",
    "    with torch.no_grad():\n",
    "        for (data1_v, data2_v, labels_v) in val_loader:\n",
    "\n",
    "            outputs = model(data1_v, data2_v)\n",
    "            loss = criterion(outputs, labels_v)\n",
    "            val_loss += loss.item() * data1_v.size(0)\n",
    "            val_accuracy += (outputs.argmax(dim=1) == labels_v).float().sum()\n",
    "\n",
    "    val_loss /= 65\n",
    "    val_accuracy = val_accuracy.cpu().numpy() / 65  # Move before using\n",
    "\n",
    "    if val_loss < best_loss:\n",
    "        best_loss = val_loss\n",
    "        torch.save(model.state_dict(), 'best_model_two_pipeline_PD.pth')\n",
    "\n",
    "    torch.save(model.state_dict(), 'latest_model_two_pipeline_PD.pth')\n",
    "\n",
    "    return val_loss, val_accuracy, running_loss / 1000, accuracy\n",
    "        "
   ]
  },
  {
   "cell_type": "code",
   "execution_count": 3,
   "metadata": {},
   "outputs": [
    {
     "name": "stdout",
     "output_type": "stream",
     "text": [
      "Epoch 1/30\n"
     ]
    },
    {
     "name": "stderr",
     "output_type": "stream",
     "text": [
      "Loss: 0.5837, Accuracy: 0.6830: 100%|██████████| 32/32 [00:02<00:00, 14.18it/s]\n"
     ]
    },
    {
     "name": "stdout",
     "output_type": "stream",
     "text": [
      "Validation Loss: 0.6293, Validation Accuracy: 0.6308\n",
      "Epoch 2/30\n"
     ]
    },
    {
     "name": "stderr",
     "output_type": "stream",
     "text": [
      "Loss: 0.3661, Accuracy: 0.8540: 100%|██████████| 32/32 [00:01<00:00, 27.17it/s]\n"
     ]
    },
    {
     "name": "stdout",
     "output_type": "stream",
     "text": [
      "Validation Loss: 0.5399, Validation Accuracy: 0.7538\n",
      "Epoch 3/30\n"
     ]
    },
    {
     "name": "stderr",
     "output_type": "stream",
     "text": [
      "Loss: 0.2047, Accuracy: 0.9360: 100%|██████████| 32/32 [00:01<00:00, 21.64it/s]\n"
     ]
    },
    {
     "name": "stdout",
     "output_type": "stream",
     "text": [
      "Validation Loss: 0.5034, Validation Accuracy: 0.7538\n",
      "Epoch 4/30\n"
     ]
    },
    {
     "name": "stderr",
     "output_type": "stream",
     "text": [
      "Loss: 0.1233, Accuracy: 0.9680: 100%|██████████| 32/32 [00:01<00:00, 29.44it/s]\n"
     ]
    },
    {
     "name": "stdout",
     "output_type": "stream",
     "text": [
      "Validation Loss: 0.5072, Validation Accuracy: 0.7846\n",
      "Epoch 5/30\n"
     ]
    },
    {
     "name": "stderr",
     "output_type": "stream",
     "text": [
      "Loss: 0.0921, Accuracy: 0.9780: 100%|██████████| 32/32 [00:01<00:00, 29.97it/s]\n"
     ]
    },
    {
     "name": "stdout",
     "output_type": "stream",
     "text": [
      "Validation Loss: 0.6843, Validation Accuracy: 0.7385\n",
      "Epoch 6/30\n"
     ]
    },
    {
     "name": "stderr",
     "output_type": "stream",
     "text": [
      "Loss: 0.0926, Accuracy: 0.9700: 100%|██████████| 32/32 [00:01<00:00, 28.59it/s]\n"
     ]
    },
    {
     "name": "stdout",
     "output_type": "stream",
     "text": [
      "Validation Loss: 0.9691, Validation Accuracy: 0.7231\n",
      "Epoch 7/30\n"
     ]
    },
    {
     "name": "stderr",
     "output_type": "stream",
     "text": [
      "Loss: 0.0814, Accuracy: 0.9750: 100%|██████████| 32/32 [00:01<00:00, 29.50it/s]\n"
     ]
    },
    {
     "name": "stdout",
     "output_type": "stream",
     "text": [
      "Validation Loss: 0.8168, Validation Accuracy: 0.7077\n",
      "Epoch 8/30\n"
     ]
    },
    {
     "name": "stderr",
     "output_type": "stream",
     "text": [
      "Loss: 0.1122, Accuracy: 0.9630: 100%|██████████| 32/32 [00:01<00:00, 23.56it/s]\n"
     ]
    },
    {
     "name": "stdout",
     "output_type": "stream",
     "text": [
      "Validation Loss: 1.1859, Validation Accuracy: 0.6308\n",
      "Epoch 9/30\n"
     ]
    },
    {
     "name": "stderr",
     "output_type": "stream",
     "text": [
      "Loss: 0.1047, Accuracy: 0.9620: 100%|██████████| 32/32 [00:01<00:00, 24.20it/s]\n"
     ]
    },
    {
     "name": "stdout",
     "output_type": "stream",
     "text": [
      "Validation Loss: 0.7312, Validation Accuracy: 0.7692\n",
      "Epoch 10/30\n"
     ]
    },
    {
     "name": "stderr",
     "output_type": "stream",
     "text": [
      "Loss: 0.0736, Accuracy: 0.9760: 100%|██████████| 32/32 [00:01<00:00, 29.45it/s]\n"
     ]
    },
    {
     "name": "stdout",
     "output_type": "stream",
     "text": [
      "Validation Loss: 0.7340, Validation Accuracy: 0.7846\n",
      "Epoch 11/30\n"
     ]
    },
    {
     "name": "stderr",
     "output_type": "stream",
     "text": [
      "Loss: 0.0299, Accuracy: 0.9960: 100%|██████████| 32/32 [00:01<00:00, 27.06it/s]\n"
     ]
    },
    {
     "name": "stdout",
     "output_type": "stream",
     "text": [
      "Validation Loss: 0.7126, Validation Accuracy: 0.7846\n",
      "Epoch 12/30\n"
     ]
    },
    {
     "name": "stderr",
     "output_type": "stream",
     "text": [
      "Loss: 0.0364, Accuracy: 0.9930: 100%|██████████| 32/32 [00:01<00:00, 25.34it/s]\n"
     ]
    },
    {
     "name": "stdout",
     "output_type": "stream",
     "text": [
      "Validation Loss: 0.6627, Validation Accuracy: 0.7846\n",
      "Epoch 13/30\n"
     ]
    },
    {
     "name": "stderr",
     "output_type": "stream",
     "text": [
      "Loss: 0.0258, Accuracy: 0.9940: 100%|██████████| 32/32 [00:01<00:00, 26.29it/s]\n"
     ]
    },
    {
     "name": "stdout",
     "output_type": "stream",
     "text": [
      "Validation Loss: 0.7044, Validation Accuracy: 0.7846\n",
      "Epoch 14/30\n"
     ]
    },
    {
     "name": "stderr",
     "output_type": "stream",
     "text": [
      "Loss: 0.0267, Accuracy: 0.9920: 100%|██████████| 32/32 [00:01<00:00, 26.81it/s]\n"
     ]
    },
    {
     "name": "stdout",
     "output_type": "stream",
     "text": [
      "Validation Loss: 0.7553, Validation Accuracy: 0.7846\n",
      "Epoch 15/30\n"
     ]
    },
    {
     "name": "stderr",
     "output_type": "stream",
     "text": [
      "Loss: 0.0214, Accuracy: 0.9960: 100%|██████████| 32/32 [00:01<00:00, 27.98it/s]\n"
     ]
    },
    {
     "name": "stdout",
     "output_type": "stream",
     "text": [
      "Validation Loss: 0.7129, Validation Accuracy: 0.7538\n",
      "Epoch 16/30\n"
     ]
    },
    {
     "name": "stderr",
     "output_type": "stream",
     "text": [
      "Loss: 0.0286, Accuracy: 0.9930: 100%|██████████| 32/32 [00:01<00:00, 26.85it/s]\n"
     ]
    },
    {
     "name": "stdout",
     "output_type": "stream",
     "text": [
      "Validation Loss: 0.7199, Validation Accuracy: 0.7538\n",
      "Epoch 17/30\n"
     ]
    },
    {
     "name": "stderr",
     "output_type": "stream",
     "text": [
      "Loss: 0.0211, Accuracy: 0.9980: 100%|██████████| 32/32 [00:01<00:00, 29.02it/s]\n"
     ]
    },
    {
     "name": "stdout",
     "output_type": "stream",
     "text": [
      "Validation Loss: 0.7149, Validation Accuracy: 0.7692\n",
      "Epoch 18/30\n"
     ]
    },
    {
     "name": "stderr",
     "output_type": "stream",
     "text": [
      "Loss: 0.0190, Accuracy: 0.9980: 100%|██████████| 32/32 [00:01<00:00, 27.16it/s]\n"
     ]
    },
    {
     "name": "stdout",
     "output_type": "stream",
     "text": [
      "Validation Loss: 0.7401, Validation Accuracy: 0.7846\n",
      "Epoch 19/30\n"
     ]
    },
    {
     "name": "stderr",
     "output_type": "stream",
     "text": [
      "Loss: 0.0258, Accuracy: 0.9930: 100%|██████████| 32/32 [00:01<00:00, 25.75it/s]\n"
     ]
    },
    {
     "name": "stdout",
     "output_type": "stream",
     "text": [
      "Validation Loss: 0.7124, Validation Accuracy: 0.7692\n",
      "Epoch 20/30\n"
     ]
    },
    {
     "name": "stderr",
     "output_type": "stream",
     "text": [
      "Loss: 0.0128, Accuracy: 1.0000: 100%|██████████| 32/32 [00:01<00:00, 29.90it/s]\n"
     ]
    },
    {
     "name": "stdout",
     "output_type": "stream",
     "text": [
      "Validation Loss: 0.7255, Validation Accuracy: 0.7692\n",
      "Epoch 21/30\n"
     ]
    },
    {
     "name": "stderr",
     "output_type": "stream",
     "text": [
      "Loss: 0.0133, Accuracy: 1.0000: 100%|██████████| 32/32 [00:01<00:00, 26.47it/s]\n"
     ]
    },
    {
     "name": "stdout",
     "output_type": "stream",
     "text": [
      "Validation Loss: 0.7758, Validation Accuracy: 0.7692\n",
      "Epoch 22/30\n"
     ]
    },
    {
     "name": "stderr",
     "output_type": "stream",
     "text": [
      "Loss: 0.0202, Accuracy: 0.9970: 100%|██████████| 32/32 [00:01<00:00, 29.11it/s]\n"
     ]
    },
    {
     "name": "stdout",
     "output_type": "stream",
     "text": [
      "Validation Loss: 0.6908, Validation Accuracy: 0.7692\n",
      "Epoch 23/30\n"
     ]
    },
    {
     "name": "stderr",
     "output_type": "stream",
     "text": [
      "Loss: 0.0193, Accuracy: 0.9990: 100%|██████████| 32/32 [00:01<00:00, 26.65it/s]\n"
     ]
    },
    {
     "name": "stdout",
     "output_type": "stream",
     "text": [
      "Validation Loss: 0.7546, Validation Accuracy: 0.7692\n",
      "Epoch 24/30\n"
     ]
    },
    {
     "name": "stderr",
     "output_type": "stream",
     "text": [
      "Loss: 0.0162, Accuracy: 0.9980: 100%|██████████| 32/32 [00:01<00:00, 28.20it/s]\n"
     ]
    },
    {
     "name": "stdout",
     "output_type": "stream",
     "text": [
      "Validation Loss: 0.7430, Validation Accuracy: 0.7846\n",
      "Epoch 25/30\n"
     ]
    },
    {
     "name": "stderr",
     "output_type": "stream",
     "text": [
      "Loss: 0.0221, Accuracy: 0.9950: 100%|██████████| 32/32 [00:01<00:00, 29.91it/s]\n"
     ]
    },
    {
     "name": "stdout",
     "output_type": "stream",
     "text": [
      "Validation Loss: 0.7591, Validation Accuracy: 0.7846\n",
      "Epoch 26/30\n"
     ]
    },
    {
     "name": "stderr",
     "output_type": "stream",
     "text": [
      "Loss: 0.0187, Accuracy: 0.9960: 100%|██████████| 32/32 [00:01<00:00, 27.60it/s]\n"
     ]
    },
    {
     "name": "stdout",
     "output_type": "stream",
     "text": [
      "Validation Loss: 0.7749, Validation Accuracy: 0.7692\n",
      "Epoch 27/30\n"
     ]
    },
    {
     "name": "stderr",
     "output_type": "stream",
     "text": [
      "Loss: 0.0184, Accuracy: 0.9970: 100%|██████████| 32/32 [00:01<00:00, 25.77it/s]\n"
     ]
    },
    {
     "name": "stdout",
     "output_type": "stream",
     "text": [
      "Validation Loss: 0.7520, Validation Accuracy: 0.7538\n",
      "Epoch 28/30\n"
     ]
    },
    {
     "name": "stderr",
     "output_type": "stream",
     "text": [
      "Loss: 0.0160, Accuracy: 0.9970: 100%|██████████| 32/32 [00:01<00:00, 29.43it/s]\n"
     ]
    },
    {
     "name": "stdout",
     "output_type": "stream",
     "text": [
      "Validation Loss: 0.7302, Validation Accuracy: 0.7692\n",
      "Epoch 29/30\n"
     ]
    },
    {
     "name": "stderr",
     "output_type": "stream",
     "text": [
      "Loss: 0.0147, Accuracy: 0.9990: 100%|██████████| 32/32 [00:01<00:00, 26.61it/s]\n"
     ]
    },
    {
     "name": "stdout",
     "output_type": "stream",
     "text": [
      "Validation Loss: 0.7384, Validation Accuracy: 0.7692\n",
      "Epoch 30/30\n"
     ]
    },
    {
     "name": "stderr",
     "output_type": "stream",
     "text": [
      "Loss: 0.0200, Accuracy: 0.9970: 100%|██████████| 32/32 [00:01<00:00, 27.75it/s]\n"
     ]
    },
    {
     "name": "stdout",
     "output_type": "stream",
     "text": [
      "Validation Loss: 0.7139, Validation Accuracy: 0.7846\n",
      "Finished training\n",
      "Best cutoff threshold:  0.24694091\n"
     ]
    },
    {
     "data": {
      "image/png": "[encoded data removed]",
      "text/plain": [
       "<Figure size 640x480 with 1 Axes>"
      ]
     },
     "metadata": {},
     "output_type": "display_data"
    },
    {
     "data": {
      "image/png": "[encoded data removed]",
      "text/plain": [
       "<Figure size 640x480 with 1 Axes>"
      ]
     },
     "metadata": {},
     "output_type": "display_data"
    }
   ],
   "source": [
    "import matplotlib.pyplot as plt\n",
    "from sklearn.metrics import ConfusionMatrixDisplay, confusion_matrix, roc_curve, roc_auc_score\n",
    "import numpy as np\n",
    "\n",
    "# Main function\n",
    "def main():\n",
    "    num_epochs = 30\n",
    "\n",
    "    accuracy_list = []\n",
    "    loss_list = []\n",
    "    val_accuracy_list = []\n",
    "    val_loss_list = []\n",
    "\n",
    "    best_loss = float('inf')\n",
    "\n",
    "    for epoch in range(num_epochs):\n",
    "        print(f\"Epoch {epoch+1}/{num_epochs}\")\n",
    "        val_loss, val_accuracy, loss, accuracy = train(model, train_loader, criterion, optimizer, best_loss)\n",
    "        scheduler.step()\n",
    "        print(f\"Validation Loss: {val_loss:.4f}, Validation Accuracy: {val_accuracy:.4f}\")\n",
    "\n",
    "        accuracy_list.append(accuracy)\n",
    "        loss_list.append(loss)\n",
    "        val_accuracy_list.append(val_accuracy)\n",
    "        val_loss_list.append(val_loss)\n",
    "\n",
    "        best_loss = min(best_loss, val_loss)\n",
    "\n",
    "    print(\"Finished training\")\n",
    "\n",
    "    binary_string = 'binary' if binary else 'multiclass'\n",
    "    row_norm_string = 'quantile'\n",
    "\n",
    "    # Plot the training and validation loss\n",
    "    plt.figure()\n",
    "    plt.plot(loss_list, label='Training Loss')\n",
    "    plt.plot(val_loss_list, label='Validation Loss')\n",
    "    plt.xlabel('Epoch')\n",
    "    plt.ylabel('Loss')\n",
    "    plt.yticks([i/10 for i in range(0, 20, 2)])\n",
    "    plt.legend()\n",
    "    plt.savefig(f\"../Results_PD/loss_{binary_string}_{row_norm_string}_{num_epochs}_.png\")\n",
    "\n",
    "    plt.clf()\n",
    "    plt.plot(accuracy_list, label='Training Accuracy')\n",
    "    plt.plot(val_accuracy_list, label='Validation Accuracy')\n",
    "    plt.xlabel('Epoch')\n",
    "    plt.ylabel('Accuracy')\n",
    "    plt.yticks([i/10 for i in range(3, 11, 1)])\n",
    "    plt.legend()\n",
    "    plt.savefig(f\"../Results_PD/accuracy_{binary_string}_{row_norm_string}_{num_epochs}_.png\")\n",
    "\n",
    "    # Load the best model\n",
    "    model.load_state_dict(torch.load('best_model_two_pipeline_PD.pth'))\n",
    "\n",
    "    model.eval()\n",
    "    y_pred = []\n",
    "    y_true = []\n",
    "    y_pred_prob = pd.DataFrame()\n",
    "\n",
    "    with torch.no_grad():\n",
    "        for (data1, data2, labels) in val_loader:\n",
    "            data1, data2, labels = data1, data2, labels\n",
    "\n",
    "            outputs = model(data1, data2).cpu()\n",
    "            y_true.extend(labels.cpu().numpy())\n",
    "            y_pred.extend(outputs.argmax(dim=1).cpu().numpy())\n",
    "            y_pred_prob = pd.concat([y_pred_prob, pd.DataFrame(outputs.softmax(dim=1))], ignore_index=True)\n",
    "\n",
    "    cm = confusion_matrix(y_true, y_pred)\n",
    "    disp = ConfusionMatrixDisplay(confusion_matrix=cm)\n",
    "    disp.plot()\n",
    "    plt.savefig(f\"../Results_PD/confusion_matrix_{binary_string}_{row_norm_string}_{num_epochs}_.png\")\n",
    "\n",
    "\n",
    "    if binary:\n",
    "        # Plot ROC curve with thresholds from 0.1 to 0.9\n",
    "        plt.clf()\n",
    "        # Calculate the AUROC score\n",
    "        fpr, tpr, thresholds = roc_curve(np.array(y_true), y_pred_prob[1])\n",
    "        print(\"Best cutoff threshold: \", thresholds[np.argmax(tpr - fpr)])\n",
    "        plt.plot(fpr, tpr)\n",
    "        plt.xlabel('False Positive Rate')\n",
    "        plt.ylabel('True Positive Rate')\n",
    "        plt.title('ROC Curve, AUROC: {:.4f}'.format(roc_auc_score(np.array(y_true), y_pred_prob[1])))\n",
    "        plt.savefig(f\"../Results_PD/roc_curve_{binary_string}_{row_norm_string}_{num_epochs}_.png\")\n",
    "\n",
    "    return roc_auc_score(pd.DataFrame(y_true), y_pred_prob[1])\n",
    "\n",
    "if __name__ == \"__main__\":\n",
    "    main()"
   ]
  }
 ],
 "metadata": {
  "colab": {
   "provenance": []
  },
  "kernelspec": {
   "display_name": "445-env",
   "language": "python",
   "name": "python3"
  },
  "language_info": {
   "codemirror_mode": {
    "name": "ipython",
    "version": 3
   },
   "file_extension": ".py",
   "mimetype": "text/x-python",
   "name": "python",
   "nbconvert_exporter": "python",
   "pygments_lexer": "ipython3",
   "version": "3.11.3"
  }
 },
 "nbformat": 4,
 "nbformat_minor": 0
}
