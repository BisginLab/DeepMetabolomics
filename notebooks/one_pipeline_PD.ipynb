{
 "cells": [
  {
   "cell_type": "code",
   "execution_count": 1,
   "metadata": {
    "id": "y5kSbj89PU3P"
   },
   "outputs": [],
   "source": [
    "import torch\n",
    "import torch.nn as nn\n",
    "import torch.optim as optim\n",
    "from torch.utils.data import DataLoader, TensorDataset\n",
    "from tqdm import tqdm\n",
    "import pandas as pd\n",
    "\n",
    "\n",
    "# Define the neural network architecture\n",
    "class ParallelNN(nn.Module):\n",
    "    def __init__(self, input1_size, hidden_size, num_classes):\n",
    "        super(ParallelNN, self).__init__()\n",
    "\n",
    "        # Define the first pipeline\n",
    "        self.pipeline1 = nn.Sequential(\n",
    "            nn.Linear(input1_size, 2048),\n",
    "                nn.BatchNorm1d(2048),\n",
    "                nn.ReLU(),\n",
    "                nn.Dropout(0.5),\n",
    "                nn.Linear(2048, 1024),\n",
    "                nn.BatchNorm1d(1024),\n",
    "                nn.ReLU(),\n",
    "                nn.Dropout(0.5),\n",
    "                nn.Linear(1024, 512),\n",
    "                nn.BatchNorm1d(512),\n",
    "                nn.ReLU(),\n",
    "                nn.Dropout(0.5),\n",
    "                nn.Linear(512, hidden_size)\n",
    "        )\n",
    "\n",
    "        # Define the final classification layer\n",
    "        self.classification = nn.Sequential(\n",
    "            nn.Linear(hidden_size, 64),\n",
    "            nn.ReLU(),\n",
    "            nn.Linear(64, 32),\n",
    "            nn.ReLU(),\n",
    "            nn.Linear(32, num_classes)\n",
    "        )\n",
    "\n",
    "    def forward(self, x1):\n",
    "        out1 = self.pipeline1(x1)\n",
    "\n",
    "        # Apply the final classification layer\n",
    "        final_out = self.classification(out1)\n",
    "        return final_out\n",
    "\n",
    "# Define the input sizes, hidden size, and number of classes\n",
    "#input1_size = 10  # Change this to match the number of features in your first dataset\n",
    "#input2_size = 8   # Change this to match the number of features in your second dataset\n",
    "#hidden_size = 64\n",
    "#num_classes = 3   # Change this to match the number of classes in your classification task\n",
    "\n",
    "# Initialize the model\n",
    "#model = ParallelNN(input1_size, input2_size, hidden_size, num_classes)\n",
    "\n",
    "# Define your loss function and optimizer\n",
    "#criterion = nn.CrossEntropyLoss()\n",
    "#optimizer = optim.Adam(model.parameters(), lr=0.001)"
   ]
  },
  {
   "cell_type": "code",
   "execution_count": 2,
   "metadata": {
    "id": "pHelC-dyPM4b"
   },
   "outputs": [
    {
     "name": "stderr",
     "output_type": "stream",
     "text": [
      "/Users/franky/Downloads/445-env/lib/python3.11/site-packages/sklearn/preprocessing/_data.py:2663: UserWarning: n_quantiles (1000) is greater than the total number of samples (322). n_quantiles is set to n_samples.\n",
      "  warnings.warn(\n"
     ]
    }
   ],
   "source": [
    "from sklearn.preprocessing import QuantileTransformer\n",
    "\n",
    "# Load the data from a CSV file\n",
    "NMR_csv_name = '../data/PD_Serum_Metabolomics_Final_NMR.csv'\n",
    "MS_csv_name = '../data/preprocessed_data_PD.csv'\n",
    "\n",
    "NMR_data = pd.read_csv(NMR_csv_name)\n",
    "MS_data = pd.read_csv(MS_csv_name)\n",
    "\n",
    "# Labels are first column of MS data\n",
    "# Remove 305h row from MS data, because it is missing from NMR data\n",
    "data1 = torch.tensor(NMR_data.values, dtype=torch.float32)\n",
    "data2 = torch.tensor(MS_data.drop(index=305).iloc[:, 1:].values, dtype=torch.float32)\n",
    "labels = torch.tensor(MS_data.drop(index=305).iloc[:, 0].values, dtype=torch.long)\n",
    "\n",
    "# Concatenate the data\n",
    "data = torch.cat((data1, data2), dim=1)\n",
    "\n",
    "# Normalize the data\n",
    "scaler = QuantileTransformer()\n",
    "data = torch.tensor(scaler.fit_transform(data), dtype=torch.float32)\n",
    "\n",
    "# Define model, loss function, and optimizer\n",
    "model = ParallelNN(input1_size=data.shape[1], hidden_size=32, num_classes=2)\n",
    "criterion = nn.CrossEntropyLoss()\n",
    "optimizer = optim.Adam(model.parameters(), weight_decay=1e-4)\n",
    "scheduler = optim.lr_scheduler.StepLR(optimizer, step_size=5, gamma=0.1)\n",
    "k_folds = 5\n",
    "\n",
    "# Prepare data loaders\n",
    "dataset = TensorDataset(data, labels)\n",
    "train_set, val_set = torch.utils.data.random_split(dataset, [int(0.8 * len(dataset)), len(dataset) - int(0.8 * len(dataset))])\n",
    "sampler = torch.utils.data.RandomSampler(train_set, replacement=True, num_samples=1000)\n",
    "train_loader = DataLoader(train_set, batch_size=32, sampler=sampler)\n",
    "val_loader = DataLoader(val_set, batch_size=12, shuffle=False)\n",
    "\n",
    "# Training loop\n",
    "def train(model, dataloader, criterion, optimizer, best_loss):\n",
    "    pbar = tqdm(dataloader)\n",
    "    correct = 0\n",
    "    running_loss = 0\n",
    "    \n",
    "\n",
    "    for (data1, labels) in pbar:\n",
    "        model.train()\n",
    "\n",
    "\n",
    "        optimizer.zero_grad()\n",
    "        outputs = model(data1)\n",
    "        loss = criterion(outputs, labels)\n",
    "        running_loss += loss.item() * data1.size(0)\n",
    "\n",
    "        loss.backward()\n",
    "        optimizer.step()\n",
    "\n",
    "        # correct += (outputs.argmax(dim=1) == labels).float().sum()\n",
    "        correct += (outputs.argmax(dim=1) == labels).float().sum()\n",
    "        accuracy = correct / 1000 # Used in sampling\n",
    "\n",
    "        \n",
    "        # Validation loop\n",
    "        val_loss = 0\n",
    "        val_accuracy = 0\n",
    "        model.eval()\n",
    "\n",
    "        with torch.no_grad():\n",
    "            for (data1_v, labels_v) in val_loader:\n",
    "\n",
    "                outputs = model(data1_v)\n",
    "                loss = criterion(outputs, labels_v)\n",
    "                val_loss += loss.item()\n",
    "                val_accuracy += (outputs.argmax(dim=1) == labels_v).float().sum()\n",
    "         \n",
    "        pbar.set_description(f\"Loss: {running_loss / 1000:.4f}, Accuracy: {accuracy:.4f}\")\n",
    "\n",
    "    val_loss /= len(val_loader)\n",
    "    val_accuracy /= len(val_set)\n",
    "\n",
    "    if val_loss < best_loss:\n",
    "        best_loss = val_loss\n",
    "        torch.save(model.state_dict(), 'best_model_one_pipeline_PD.pth')\n",
    "\n",
    "    torch.save(model.state_dict(), 'latest_model_one_pipeline_PD.pth')\n",
    "\n",
    "    return val_loss, val_accuracy, running_loss / 1000, accuracy\n",
    "        "
   ]
  },
  {
   "cell_type": "code",
   "execution_count": 3,
   "metadata": {},
   "outputs": [
    {
     "name": "stdout",
     "output_type": "stream",
     "text": [
      "Epoch 1/30\n"
     ]
    },
    {
     "name": "stderr",
     "output_type": "stream",
     "text": [
      "Loss: 0.5901, Accuracy: 0.6820: 100%|██████████| 32/32 [00:01<00:00, 21.28it/s]\n"
     ]
    },
    {
     "name": "stdout",
     "output_type": "stream",
     "text": [
      "Validation Loss: 1.3016, Validation Accuracy: 0.4923\n",
      "Epoch 2/30\n"
     ]
    },
    {
     "name": "stderr",
     "output_type": "stream",
     "text": [
      "Loss: 0.2491, Accuracy: 0.9020: 100%|██████████| 32/32 [00:01<00:00, 22.32it/s]\n"
     ]
    },
    {
     "name": "stdout",
     "output_type": "stream",
     "text": [
      "Validation Loss: 1.7840, Validation Accuracy: 0.5077\n",
      "Epoch 3/30\n"
     ]
    },
    {
     "name": "stderr",
     "output_type": "stream",
     "text": [
      "Loss: 0.2077, Accuracy: 0.9140: 100%|██████████| 32/32 [00:01<00:00, 22.03it/s]\n"
     ]
    },
    {
     "name": "stdout",
     "output_type": "stream",
     "text": [
      "Validation Loss: 0.8920, Validation Accuracy: 0.7385\n",
      "Epoch 4/30\n"
     ]
    },
    {
     "name": "stderr",
     "output_type": "stream",
     "text": [
      "Loss: 0.0902, Accuracy: 0.9690: 100%|██████████| 32/32 [00:01<00:00, 22.24it/s]\n"
     ]
    },
    {
     "name": "stdout",
     "output_type": "stream",
     "text": [
      "Validation Loss: 1.7185, Validation Accuracy: 0.6462\n",
      "Epoch 5/30\n"
     ]
    },
    {
     "name": "stderr",
     "output_type": "stream",
     "text": [
      "Loss: 0.1606, Accuracy: 0.9390: 100%|██████████| 32/32 [00:01<00:00, 22.84it/s]\n"
     ]
    },
    {
     "name": "stdout",
     "output_type": "stream",
     "text": [
      "Validation Loss: 0.7486, Validation Accuracy: 0.7231\n",
      "Epoch 6/30\n"
     ]
    },
    {
     "name": "stderr",
     "output_type": "stream",
     "text": [
      "Loss: 0.0932, Accuracy: 0.9690: 100%|██████████| 32/32 [00:01<00:00, 22.79it/s]\n"
     ]
    },
    {
     "name": "stdout",
     "output_type": "stream",
     "text": [
      "Validation Loss: 0.7343, Validation Accuracy: 0.7385\n",
      "Epoch 7/30\n"
     ]
    },
    {
     "name": "stderr",
     "output_type": "stream",
     "text": [
      "Loss: 0.0621, Accuracy: 0.9810: 100%|██████████| 32/32 [00:01<00:00, 22.33it/s]\n"
     ]
    },
    {
     "name": "stdout",
     "output_type": "stream",
     "text": [
      "Validation Loss: 0.7717, Validation Accuracy: 0.7692\n",
      "Epoch 8/30\n"
     ]
    },
    {
     "name": "stderr",
     "output_type": "stream",
     "text": [
      "Loss: 0.0363, Accuracy: 0.9890: 100%|██████████| 32/32 [00:01<00:00, 22.57it/s]\n"
     ]
    },
    {
     "name": "stdout",
     "output_type": "stream",
     "text": [
      "Validation Loss: 0.7400, Validation Accuracy: 0.7692\n",
      "Epoch 9/30\n"
     ]
    },
    {
     "name": "stderr",
     "output_type": "stream",
     "text": [
      "Loss: 0.0334, Accuracy: 0.9910: 100%|██████████| 32/32 [00:01<00:00, 22.84it/s]\n"
     ]
    },
    {
     "name": "stdout",
     "output_type": "stream",
     "text": [
      "Validation Loss: 0.7819, Validation Accuracy: 0.7692\n",
      "Epoch 10/30\n"
     ]
    },
    {
     "name": "stderr",
     "output_type": "stream",
     "text": [
      "Loss: 0.0265, Accuracy: 0.9940: 100%|██████████| 32/32 [00:01<00:00, 20.23it/s]\n"
     ]
    },
    {
     "name": "stdout",
     "output_type": "stream",
     "text": [
      "Validation Loss: 0.7960, Validation Accuracy: 0.7538\n",
      "Epoch 11/30\n"
     ]
    },
    {
     "name": "stderr",
     "output_type": "stream",
     "text": [
      "Loss: 0.0240, Accuracy: 0.9960: 100%|██████████| 32/32 [00:01<00:00, 20.54it/s]\n"
     ]
    },
    {
     "name": "stdout",
     "output_type": "stream",
     "text": [
      "Validation Loss: 0.7821, Validation Accuracy: 0.7846\n",
      "Epoch 12/30\n"
     ]
    },
    {
     "name": "stderr",
     "output_type": "stream",
     "text": [
      "Loss: 0.0205, Accuracy: 0.9960: 100%|██████████| 32/32 [00:01<00:00, 21.24it/s]\n"
     ]
    },
    {
     "name": "stdout",
     "output_type": "stream",
     "text": [
      "Validation Loss: 0.8214, Validation Accuracy: 0.7692\n",
      "Epoch 13/30\n"
     ]
    },
    {
     "name": "stderr",
     "output_type": "stream",
     "text": [
      "Loss: 0.0171, Accuracy: 0.9980: 100%|██████████| 32/32 [00:01<00:00, 19.56it/s]\n"
     ]
    },
    {
     "name": "stdout",
     "output_type": "stream",
     "text": [
      "Validation Loss: 0.8058, Validation Accuracy: 0.7692\n",
      "Epoch 14/30\n"
     ]
    },
    {
     "name": "stderr",
     "output_type": "stream",
     "text": [
      "Loss: 0.0225, Accuracy: 0.9940: 100%|██████████| 32/32 [00:01<00:00, 19.20it/s]\n"
     ]
    },
    {
     "name": "stdout",
     "output_type": "stream",
     "text": [
      "Validation Loss: 0.8148, Validation Accuracy: 0.7538\n",
      "Epoch 15/30\n"
     ]
    },
    {
     "name": "stderr",
     "output_type": "stream",
     "text": [
      "Loss: 0.0285, Accuracy: 0.9910: 100%|██████████| 32/32 [00:01<00:00, 20.98it/s]\n"
     ]
    },
    {
     "name": "stdout",
     "output_type": "stream",
     "text": [
      "Validation Loss: 0.8321, Validation Accuracy: 0.7692\n",
      "Epoch 16/30\n"
     ]
    },
    {
     "name": "stderr",
     "output_type": "stream",
     "text": [
      "Loss: 0.0414, Accuracy: 0.9910: 100%|██████████| 32/32 [00:01<00:00, 19.59it/s]\n"
     ]
    },
    {
     "name": "stdout",
     "output_type": "stream",
     "text": [
      "Validation Loss: 0.8420, Validation Accuracy: 0.7538\n",
      "Epoch 17/30\n"
     ]
    },
    {
     "name": "stderr",
     "output_type": "stream",
     "text": [
      "Loss: 0.0171, Accuracy: 0.9950: 100%|██████████| 32/32 [00:01<00:00, 21.40it/s]\n"
     ]
    },
    {
     "name": "stdout",
     "output_type": "stream",
     "text": [
      "Validation Loss: 0.8004, Validation Accuracy: 0.7846\n",
      "Epoch 18/30\n"
     ]
    },
    {
     "name": "stderr",
     "output_type": "stream",
     "text": [
      "Loss: 0.0227, Accuracy: 0.9930: 100%|██████████| 32/32 [00:01<00:00, 23.04it/s]\n"
     ]
    },
    {
     "name": "stdout",
     "output_type": "stream",
     "text": [
      "Validation Loss: 0.8178, Validation Accuracy: 0.8000\n",
      "Epoch 19/30\n"
     ]
    },
    {
     "name": "stderr",
     "output_type": "stream",
     "text": [
      "Loss: 0.0183, Accuracy: 0.9960: 100%|██████████| 32/32 [00:01<00:00, 21.98it/s]\n"
     ]
    },
    {
     "name": "stdout",
     "output_type": "stream",
     "text": [
      "Validation Loss: 0.8100, Validation Accuracy: 0.7538\n",
      "Epoch 20/30\n"
     ]
    },
    {
     "name": "stderr",
     "output_type": "stream",
     "text": [
      "Loss: 0.0157, Accuracy: 0.9950: 100%|██████████| 32/32 [00:01<00:00, 22.30it/s]\n"
     ]
    },
    {
     "name": "stdout",
     "output_type": "stream",
     "text": [
      "Validation Loss: 0.8015, Validation Accuracy: 0.7692\n",
      "Epoch 21/30\n"
     ]
    },
    {
     "name": "stderr",
     "output_type": "stream",
     "text": [
      "Loss: 0.0198, Accuracy: 0.9970: 100%|██████████| 32/32 [00:01<00:00, 21.09it/s]\n"
     ]
    },
    {
     "name": "stdout",
     "output_type": "stream",
     "text": [
      "Validation Loss: 0.8083, Validation Accuracy: 0.7692\n",
      "Epoch 22/30\n"
     ]
    },
    {
     "name": "stderr",
     "output_type": "stream",
     "text": [
      "Loss: 0.0196, Accuracy: 0.9960: 100%|██████████| 32/32 [00:01<00:00, 21.36it/s]\n"
     ]
    },
    {
     "name": "stdout",
     "output_type": "stream",
     "text": [
      "Validation Loss: 0.8207, Validation Accuracy: 0.7692\n",
      "Epoch 23/30\n"
     ]
    },
    {
     "name": "stderr",
     "output_type": "stream",
     "text": [
      "Loss: 0.0212, Accuracy: 0.9950: 100%|██████████| 32/32 [00:01<00:00, 19.48it/s]\n"
     ]
    },
    {
     "name": "stdout",
     "output_type": "stream",
     "text": [
      "Validation Loss: 0.7921, Validation Accuracy: 0.7846\n",
      "Epoch 24/30\n"
     ]
    },
    {
     "name": "stderr",
     "output_type": "stream",
     "text": [
      "Loss: 0.0197, Accuracy: 0.9940: 100%|██████████| 32/32 [00:01<00:00, 22.09it/s]\n"
     ]
    },
    {
     "name": "stdout",
     "output_type": "stream",
     "text": [
      "Validation Loss: 0.7901, Validation Accuracy: 0.7692\n",
      "Epoch 25/30\n"
     ]
    },
    {
     "name": "stderr",
     "output_type": "stream",
     "text": [
      "Loss: 0.0220, Accuracy: 0.9950: 100%|██████████| 32/32 [00:01<00:00, 19.26it/s]\n"
     ]
    },
    {
     "name": "stdout",
     "output_type": "stream",
     "text": [
      "Validation Loss: 0.7944, Validation Accuracy: 0.7846\n",
      "Epoch 26/30\n"
     ]
    },
    {
     "name": "stderr",
     "output_type": "stream",
     "text": [
      "Loss: 0.0286, Accuracy: 0.9870: 100%|██████████| 32/32 [00:01<00:00, 18.74it/s]\n"
     ]
    },
    {
     "name": "stdout",
     "output_type": "stream",
     "text": [
      "Validation Loss: 0.8053, Validation Accuracy: 0.7692\n",
      "Epoch 27/30\n"
     ]
    },
    {
     "name": "stderr",
     "output_type": "stream",
     "text": [
      "Loss: 0.0217, Accuracy: 0.9940: 100%|██████████| 32/32 [00:01<00:00, 20.94it/s]\n"
     ]
    },
    {
     "name": "stdout",
     "output_type": "stream",
     "text": [
      "Validation Loss: 0.8181, Validation Accuracy: 0.7846\n",
      "Epoch 28/30\n"
     ]
    },
    {
     "name": "stderr",
     "output_type": "stream",
     "text": [
      "Loss: 0.0339, Accuracy: 0.9890: 100%|██████████| 32/32 [00:01<00:00, 19.20it/s]\n"
     ]
    },
    {
     "name": "stdout",
     "output_type": "stream",
     "text": [
      "Validation Loss: 0.8160, Validation Accuracy: 0.7692\n",
      "Epoch 29/30\n"
     ]
    },
    {
     "name": "stderr",
     "output_type": "stream",
     "text": [
      "Loss: 0.0187, Accuracy: 0.9940: 100%|██████████| 32/32 [00:01<00:00, 18.13it/s]\n"
     ]
    },
    {
     "name": "stdout",
     "output_type": "stream",
     "text": [
      "Validation Loss: 0.8134, Validation Accuracy: 0.7692\n",
      "Epoch 30/30\n"
     ]
    },
    {
     "name": "stderr",
     "output_type": "stream",
     "text": [
      "Loss: 0.0181, Accuracy: 0.9950: 100%|██████████| 32/32 [00:01<00:00, 21.43it/s]\n"
     ]
    },
    {
     "name": "stdout",
     "output_type": "stream",
     "text": [
      "Validation Loss: 0.8156, Validation Accuracy: 0.7846\n",
      "Finished training\n",
      "Best cutoff threshold:  0.3932687\n"
     ]
    },
    {
     "data": {
      "image/png": "[encoded data removed]",
      "text/plain": [
       "<Figure size 640x480 with 1 Axes>"
      ]
     },
     "metadata": {},
     "output_type": "display_data"
    },
    {
     "data": {
      "image/png": "[encoded data removed]",
      "text/plain": [
       "<Figure size 640x480 with 1 Axes>"
      ]
     },
     "metadata": {},
     "output_type": "display_data"
    }
   ],
   "source": [
    "import matplotlib.pyplot as plt\n",
    "from sklearn.metrics import ConfusionMatrixDisplay, confusion_matrix, roc_curve, roc_auc_score\n",
    "import numpy as np\n",
    "\n",
    "# Main function\n",
    "def main():\n",
    "    num_epochs = 30\n",
    "\n",
    "    accuracy_list = []\n",
    "    loss_list = []\n",
    "    val_accuracy_list = []\n",
    "    val_loss_list = []\n",
    "\n",
    "    best_loss = float('inf')\n",
    "\n",
    "    for epoch in range(num_epochs):\n",
    "        print(f\"Epoch {epoch+1}/{num_epochs}\")\n",
    "        val_loss, val_accuracy, loss, accuracy = train(model, train_loader, criterion, optimizer, best_loss)\n",
    "        print(f\"Validation Loss: {val_loss:.4f}, Validation Accuracy: {val_accuracy:.4f}\")\n",
    "        scheduler.step()\n",
    "\n",
    "        accuracy_list.append(accuracy)\n",
    "        loss_list.append(loss)\n",
    "        val_accuracy_list.append(val_accuracy)\n",
    "        val_loss_list.append(val_loss)\n",
    "\n",
    "    print(\"Finished training\")\n",
    "\n",
    "    binary_string = 'binary'\n",
    "    row_norm_string = 'quantile'\n",
    "\n",
    "    # Plot the training and validation loss\n",
    "    plt.figure()\n",
    "    plt.plot(loss_list, label='Training Loss')\n",
    "    plt.plot(val_loss_list, label='Validation Loss')\n",
    "    plt.xlabel('Epoch')\n",
    "    plt.ylabel('Loss')\n",
    "    plt.yticks([i/10 for i in range(0, 20, 2)])\n",
    "    plt.legend()\n",
    "    plt.savefig(f\"../Results_one_PD/loss_{binary_string}_{row_norm_string}_{num_epochs}_.png\")\n",
    "\n",
    "    plt.clf()\n",
    "    plt.plot(accuracy_list, label='Training Accuracy')\n",
    "    plt.plot(val_accuracy_list, label='Validation Accuracy')\n",
    "    plt.xlabel('Epoch')\n",
    "    plt.ylabel('Accuracy')\n",
    "    plt.yticks([i/10 for i in range(3, 11, 1)])\n",
    "    plt.legend()\n",
    "    plt.savefig(f\"../Results_one_PD/accuracy_{binary_string}_{row_norm_string}_{num_epochs}_.png\")\n",
    "\n",
    "    # Load the model (best or latest)\n",
    "    model.load_state_dict(torch.load('best_model_one_pipeline_PD.pth'))\n",
    "\n",
    "    model.eval()\n",
    "    y_pred = []\n",
    "    y_true = []\n",
    "    y_pred_prob = pd.DataFrame()\n",
    "\n",
    "    with torch.no_grad():\n",
    "        for (data1, labels) in val_loader:\n",
    "\n",
    "            outputs = model(data1)\n",
    "            y_true.extend(labels.cpu().numpy())\n",
    "            y_pred.extend(outputs.argmax(dim=1).numpy())\n",
    "            y_pred_prob = pd.concat([y_pred_prob, pd.DataFrame(outputs.softmax(dim=1))], ignore_index=True)\n",
    "\n",
    "    cm = confusion_matrix(y_true, y_pred)\n",
    "    disp = ConfusionMatrixDisplay(confusion_matrix=cm)\n",
    "    disp.plot()\n",
    "    plt.savefig(f\"../Results_one_PD/confusion_matrix_{binary_string}_{row_norm_string}_{num_epochs}_.png\")\n",
    "\n",
    "    # Plot ROC curve with thresholds from 0.1 to 0.9\n",
    "    plt.clf()\n",
    "    # Calculate the AUROC score\n",
    "    fpr, tpr, thresholds = roc_curve(pd.DataFrame(y_true), y_pred_prob[1])\n",
    "    print(\"Best cutoff threshold: \", thresholds[np.argmax(tpr - fpr)])\n",
    "    plt.plot(fpr, tpr)\n",
    "    plt.xlabel('False Positive Rate')\n",
    "    plt.ylabel('True Positive Rate')\n",
    "    plt.title('ROC Curve, AUROC: {:.4f}'.format(roc_auc_score(pd.DataFrame(y_true), y_pred_prob[1])))\n",
    "    plt.savefig(f\"../Results_one_PD/roc_curve_{binary_string}_{row_norm_string}_{num_epochs}_.png\")\n",
    "\n",
    "    \n",
    "\n",
    "\n",
    "if __name__ == '__main__':\n",
    "    main()"
   ]
  }
 ],
 "metadata": {
  "colab": {
   "provenance": []
  },
  "kernelspec": {
   "display_name": "445-env",
   "language": "python",
   "name": "python3"
  },
  "language_info": {
   "codemirror_mode": {
    "name": "ipython",
    "version": 3
   },
   "file_extension": ".py",
   "mimetype": "text/x-python",
   "name": "python",
   "nbconvert_exporter": "python",
   "pygments_lexer": "ipython3",
   "version": "3.11.3"
  }
 },
 "nbformat": 4,
 "nbformat_minor": 0
}
